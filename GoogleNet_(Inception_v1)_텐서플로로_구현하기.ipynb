{
  "nbformat": 4,
  "nbformat_minor": 0,
  "metadata": {
    "colab": {
      "provenance": [],
      "gpuType": "V28",
      "authorship_tag": "ABX9TyMNPNozXn2KUzPHSb2Ib7zB",
      "include_colab_link": true
    },
    "kernelspec": {
      "name": "python3",
      "display_name": "Python 3"
    },
    "language_info": {
      "name": "python"
    },
    "accelerator": "TPU"
  },
  "cells": [
    {
      "cell_type": "markdown",
      "metadata": {
        "id": "view-in-github",
        "colab_type": "text"
      },
      "source": [
        "<a href=\"https://colab.research.google.com/github/hscrown/paper_reading/blob/main/GoogleNet_(Inception_v1)_%ED%85%90%EC%84%9C%ED%94%8C%EB%A1%9C%EB%A1%9C_%EA%B5%AC%ED%98%84%ED%95%98%EA%B8%B0.ipynb\" target=\"_parent\"><img src=\"https://colab.research.google.com/assets/colab-badge.svg\" alt=\"Open In Colab\"/></a>"
      ]
    },
    {
      "cell_type": "markdown",
      "source": [
        " GoogleNet (Inception v1)"
      ],
      "metadata": {
        "id": "FFWEhKuc2u7F"
      }
    },
    {
      "cell_type": "code",
      "source": [
        "# 데이터 전처리\n",
        "import tensorflow as tf\n",
        "from tensorflow.keras import datasets, layers, models\n",
        "import numpy as np\n",
        "import matplotlib.pyplot as plt"
      ],
      "metadata": {
        "id": "Zh-iZ7p67mw1"
      },
      "execution_count": 2,
      "outputs": []
    },
    {
      "cell_type": "code",
      "source": [
        "# CIFAR-10 데이터셋 로드 및 스플릿\n",
        "(train_X, train_y), (test_X, test_y) = datasets.cifar10.load_data()\n",
        "\n",
        "# 데이터 정규화 (픽셀 값 범위를 [0, 1]로 변환)\n",
        "train_X = train_X / 255.0\n",
        "test_X = test_X / 255.0\n",
        "\n",
        "# CIFAR-10을 GoogleNet 입력 크기인 224x224로 리사이즈\n",
        "train_X = tf.image.resize(train_X, [224, 224])\n",
        "test_X = tf.image.resize(test_X, [224, 224])\n",
        "\n",
        "# 데이터셋 크기 확인\n",
        "print(\"Train data shape:\", train_X.shape)  # (50000, 224, 224, 3)\n",
        "print(\"Test data shape:\", test_X.shape)    # (10000, 224, 224, 3)"
      ],
      "metadata": {
        "colab": {
          "base_uri": "https://localhost:8080/"
        },
        "id": "77zTqXJ-7qgz",
        "outputId": "7a1a3aeb-0cd9-4f45-f19d-bcb8aa5ccee8"
      },
      "execution_count": 3,
      "outputs": [
        {
          "output_type": "stream",
          "name": "stdout",
          "text": [
            "Downloading data from https://www.cs.toronto.edu/~kriz/cifar-10-python.tar.gz\n",
            "170498071/170498071 [==============================] - 3s 0us/step\n",
            "Train data shape: (50000, 224, 224, 3)\n",
            "Test data shape: (10000, 224, 224, 3)\n"
          ]
        }
      ]
    },
    {
      "cell_type": "code",
      "source": [
        "# 인셉션 모듈 정의 함수\n",
        "def inception_module(x, filters_1x1, filters_3x3_reduce, filters_3x3, filters_5x5_reduce, filters_5x5, filters_pool_proj):\n",
        "    # 1x1 컨볼루션 경로\n",
        "    path1 = layers.Conv2D(filters_1x1, (1, 1), padding='same', activation='relu')(x)\n",
        "\n",
        "    # 1x1 컨볼루션 후 3x3 컨볼루션 경로\n",
        "    path2 = layers.Conv2D(filters_3x3_reduce, (1, 1), padding='same', activation='relu')(x)\n",
        "    path2 = layers.Conv2D(filters_3x3, (3, 3), padding='same', activation='relu')(path2)\n",
        "\n",
        "    # 1x1 컨볼루션 후 5x5 컨볼루션 경로\n",
        "    path3 = layers.Conv2D(filters_5x5_reduce, (1, 1), padding='same', activation='relu')(x)\n",
        "    path3 = layers.Conv2D(filters_5x5, (5, 5), padding='same', activation='relu')(path3)\n",
        "\n",
        "    # 3x3 최대 풀링 후 1x1 컨볼루션 경로\n",
        "    path4 = layers.MaxPooling2D((3, 3), strides=(1, 1), padding='same')(x)\n",
        "    path4 = layers.Conv2D(filters_pool_proj, (1, 1), padding='same', activation='relu')(path4)\n",
        "\n",
        "    # 네 가지 경로를 채널 방향으로 결합하여 인셉션 모듈의 출력 생성\n",
        "    return layers.concatenate([path1, path2, path3, path4], axis=-1)\n",
        "\n",
        "# GoogleNet 모델 구축 시작\n",
        "input_layer = layers.Input(shape=(224, 224, 3))\n",
        "\n",
        "# 초기 컨볼루션 및 최대 풀링 레이어\n",
        "x = layers.Conv2D(64, (7, 7), strides=(2, 2), padding='same', activation='relu')(input_layer)\n",
        "x = layers.MaxPooling2D((3, 3), strides=(2, 2), padding='same')(x)\n",
        "\n",
        "# 두 번째 컨볼루션 및 최대 풀링 레이어\n",
        "x = layers.Conv2D(192, (3, 3), padding='same', activation='relu')(x)\n",
        "x = layers.MaxPooling2D((3, 3), strides=(2, 2), padding='same')(x)\n",
        "\n",
        "# 첫 번째 인셉션 모듈 그룹\n",
        "x = inception_module(x, 64, 96, 128, 16, 32, 32)  # 인셉션 (3a)\n",
        "x = inception_module(x, 128, 128, 192, 32, 96, 64)  # 인셉션 (3b)\n",
        "x = layers.MaxPooling2D((3, 3), strides=(2, 2), padding='same')(x)\n",
        "\n",
        "# 두 번째 인셉션 모듈 그룹\n",
        "x = inception_module(x, 192, 96, 208, 16, 48, 64)  # 인셉션 (4a)\n",
        "x = inception_module(x, 160, 112, 224, 24, 64, 64)  # 인셉션 (4b)\n",
        "x = inception_module(x, 128, 128, 256, 24, 64, 64)  # 인셉션 (4c)\n",
        "x = inception_module(x, 112, 144, 288, 32, 64, 64)  # 인셉션 (4d)\n",
        "x = inception_module(x, 256, 160, 320, 32, 128, 128)  # 인셉션 (4e)\n",
        "x = layers.MaxPooling2D((3, 3), strides=(2, 2), padding='same')(x)\n",
        "\n",
        "# 세 번째 인셉션 모듈 그룹\n",
        "x = inception_module(x, 256, 160, 320, 32, 128, 128)  # 인셉션 (5a)\n",
        "x = inception_module(x, 384, 192, 384, 48, 128, 128)  # 인셉션 (5b)\n",
        "\n",
        "# 마지막 단계: Global Average Pooling과 Fully Connected Layer\n",
        "x = layers.GlobalAveragePooling2D()(x)\n",
        "x = layers.Dropout(0.4)(x)\n",
        "x = layers.Dense(10, activation='softmax')(x)  # CIFAR-10은 10개의 클래스를 가지므로 유닛 수를 10으로 설정\n",
        "\n",
        "# 모델 정의\n",
        "model = models.Model(input_layer, x)\n",
        "\n",
        "# 모델 컴파일\n",
        "# Adam 옵티마이저와 sparse_categorical_crossentropy 손실 함수를 사용하여 다중 클래스 분류 수행\n",
        "model.compile(optimizer='adam', loss='sparse_categorical_crossentropy', metrics=['accuracy'])\n",
        "\n",
        "# 모델 요약 출력\n",
        "model.summary()"
      ],
      "metadata": {
        "colab": {
          "base_uri": "https://localhost:8080/"
        },
        "id": "56lHwr8q2xbT",
        "outputId": "beeff660-41b9-49e1-febf-be9bea1e7db7"
      },
      "execution_count": 4,
      "outputs": [
        {
          "output_type": "stream",
          "name": "stdout",
          "text": [
            "Model: \"model\"\n",
            "__________________________________________________________________________________________________\n",
            " Layer (type)                Output Shape                 Param #   Connected to                  \n",
            "==================================================================================================\n",
            " input_1 (InputLayer)        [(None, 224, 224, 3)]        0         []                            \n",
            "                                                                                                  \n",
            " conv2d (Conv2D)             (None, 112, 112, 64)         9472      ['input_1[0][0]']             \n",
            "                                                                                                  \n",
            " max_pooling2d (MaxPooling2  (None, 56, 56, 64)           0         ['conv2d[0][0]']              \n",
            " D)                                                                                               \n",
            "                                                                                                  \n",
            " conv2d_1 (Conv2D)           (None, 56, 56, 192)          110784    ['max_pooling2d[0][0]']       \n",
            "                                                                                                  \n",
            " max_pooling2d_1 (MaxPoolin  (None, 28, 28, 192)          0         ['conv2d_1[0][0]']            \n",
            " g2D)                                                                                             \n",
            "                                                                                                  \n",
            " conv2d_3 (Conv2D)           (None, 28, 28, 96)           18528     ['max_pooling2d_1[0][0]']     \n",
            "                                                                                                  \n",
            " conv2d_5 (Conv2D)           (None, 28, 28, 16)           3088      ['max_pooling2d_1[0][0]']     \n",
            "                                                                                                  \n",
            " max_pooling2d_2 (MaxPoolin  (None, 28, 28, 192)          0         ['max_pooling2d_1[0][0]']     \n",
            " g2D)                                                                                             \n",
            "                                                                                                  \n",
            " conv2d_2 (Conv2D)           (None, 28, 28, 64)           12352     ['max_pooling2d_1[0][0]']     \n",
            "                                                                                                  \n",
            " conv2d_4 (Conv2D)           (None, 28, 28, 128)          110720    ['conv2d_3[0][0]']            \n",
            "                                                                                                  \n",
            " conv2d_6 (Conv2D)           (None, 28, 28, 32)           12832     ['conv2d_5[0][0]']            \n",
            "                                                                                                  \n",
            " conv2d_7 (Conv2D)           (None, 28, 28, 32)           6176      ['max_pooling2d_2[0][0]']     \n",
            "                                                                                                  \n",
            " concatenate (Concatenate)   (None, 28, 28, 256)          0         ['conv2d_2[0][0]',            \n",
            "                                                                     'conv2d_4[0][0]',            \n",
            "                                                                     'conv2d_6[0][0]',            \n",
            "                                                                     'conv2d_7[0][0]']            \n",
            "                                                                                                  \n",
            " conv2d_9 (Conv2D)           (None, 28, 28, 128)          32896     ['concatenate[0][0]']         \n",
            "                                                                                                  \n",
            " conv2d_11 (Conv2D)          (None, 28, 28, 32)           8224      ['concatenate[0][0]']         \n",
            "                                                                                                  \n",
            " max_pooling2d_3 (MaxPoolin  (None, 28, 28, 256)          0         ['concatenate[0][0]']         \n",
            " g2D)                                                                                             \n",
            "                                                                                                  \n",
            " conv2d_8 (Conv2D)           (None, 28, 28, 128)          32896     ['concatenate[0][0]']         \n",
            "                                                                                                  \n",
            " conv2d_10 (Conv2D)          (None, 28, 28, 192)          221376    ['conv2d_9[0][0]']            \n",
            "                                                                                                  \n",
            " conv2d_12 (Conv2D)          (None, 28, 28, 96)           76896     ['conv2d_11[0][0]']           \n",
            "                                                                                                  \n",
            " conv2d_13 (Conv2D)          (None, 28, 28, 64)           16448     ['max_pooling2d_3[0][0]']     \n",
            "                                                                                                  \n",
            " concatenate_1 (Concatenate  (None, 28, 28, 480)          0         ['conv2d_8[0][0]',            \n",
            " )                                                                   'conv2d_10[0][0]',           \n",
            "                                                                     'conv2d_12[0][0]',           \n",
            "                                                                     'conv2d_13[0][0]']           \n",
            "                                                                                                  \n",
            " max_pooling2d_4 (MaxPoolin  (None, 14, 14, 480)          0         ['concatenate_1[0][0]']       \n",
            " g2D)                                                                                             \n",
            "                                                                                                  \n",
            " conv2d_15 (Conv2D)          (None, 14, 14, 96)           46176     ['max_pooling2d_4[0][0]']     \n",
            "                                                                                                  \n",
            " conv2d_17 (Conv2D)          (None, 14, 14, 16)           7696      ['max_pooling2d_4[0][0]']     \n",
            "                                                                                                  \n",
            " max_pooling2d_5 (MaxPoolin  (None, 14, 14, 480)          0         ['max_pooling2d_4[0][0]']     \n",
            " g2D)                                                                                             \n",
            "                                                                                                  \n",
            " conv2d_14 (Conv2D)          (None, 14, 14, 192)          92352     ['max_pooling2d_4[0][0]']     \n",
            "                                                                                                  \n",
            " conv2d_16 (Conv2D)          (None, 14, 14, 208)          179920    ['conv2d_15[0][0]']           \n",
            "                                                                                                  \n",
            " conv2d_18 (Conv2D)          (None, 14, 14, 48)           19248     ['conv2d_17[0][0]']           \n",
            "                                                                                                  \n",
            " conv2d_19 (Conv2D)          (None, 14, 14, 64)           30784     ['max_pooling2d_5[0][0]']     \n",
            "                                                                                                  \n",
            " concatenate_2 (Concatenate  (None, 14, 14, 512)          0         ['conv2d_14[0][0]',           \n",
            " )                                                                   'conv2d_16[0][0]',           \n",
            "                                                                     'conv2d_18[0][0]',           \n",
            "                                                                     'conv2d_19[0][0]']           \n",
            "                                                                                                  \n",
            " conv2d_21 (Conv2D)          (None, 14, 14, 112)          57456     ['concatenate_2[0][0]']       \n",
            "                                                                                                  \n",
            " conv2d_23 (Conv2D)          (None, 14, 14, 24)           12312     ['concatenate_2[0][0]']       \n",
            "                                                                                                  \n",
            " max_pooling2d_6 (MaxPoolin  (None, 14, 14, 512)          0         ['concatenate_2[0][0]']       \n",
            " g2D)                                                                                             \n",
            "                                                                                                  \n",
            " conv2d_20 (Conv2D)          (None, 14, 14, 160)          82080     ['concatenate_2[0][0]']       \n",
            "                                                                                                  \n",
            " conv2d_22 (Conv2D)          (None, 14, 14, 224)          226016    ['conv2d_21[0][0]']           \n",
            "                                                                                                  \n",
            " conv2d_24 (Conv2D)          (None, 14, 14, 64)           38464     ['conv2d_23[0][0]']           \n",
            "                                                                                                  \n",
            " conv2d_25 (Conv2D)          (None, 14, 14, 64)           32832     ['max_pooling2d_6[0][0]']     \n",
            "                                                                                                  \n",
            " concatenate_3 (Concatenate  (None, 14, 14, 512)          0         ['conv2d_20[0][0]',           \n",
            " )                                                                   'conv2d_22[0][0]',           \n",
            "                                                                     'conv2d_24[0][0]',           \n",
            "                                                                     'conv2d_25[0][0]']           \n",
            "                                                                                                  \n",
            " conv2d_27 (Conv2D)          (None, 14, 14, 128)          65664     ['concatenate_3[0][0]']       \n",
            "                                                                                                  \n",
            " conv2d_29 (Conv2D)          (None, 14, 14, 24)           12312     ['concatenate_3[0][0]']       \n",
            "                                                                                                  \n",
            " max_pooling2d_7 (MaxPoolin  (None, 14, 14, 512)          0         ['concatenate_3[0][0]']       \n",
            " g2D)                                                                                             \n",
            "                                                                                                  \n",
            " conv2d_26 (Conv2D)          (None, 14, 14, 128)          65664     ['concatenate_3[0][0]']       \n",
            "                                                                                                  \n",
            " conv2d_28 (Conv2D)          (None, 14, 14, 256)          295168    ['conv2d_27[0][0]']           \n",
            "                                                                                                  \n",
            " conv2d_30 (Conv2D)          (None, 14, 14, 64)           38464     ['conv2d_29[0][0]']           \n",
            "                                                                                                  \n",
            " conv2d_31 (Conv2D)          (None, 14, 14, 64)           32832     ['max_pooling2d_7[0][0]']     \n",
            "                                                                                                  \n",
            " concatenate_4 (Concatenate  (None, 14, 14, 512)          0         ['conv2d_26[0][0]',           \n",
            " )                                                                   'conv2d_28[0][0]',           \n",
            "                                                                     'conv2d_30[0][0]',           \n",
            "                                                                     'conv2d_31[0][0]']           \n",
            "                                                                                                  \n",
            " conv2d_33 (Conv2D)          (None, 14, 14, 144)          73872     ['concatenate_4[0][0]']       \n",
            "                                                                                                  \n",
            " conv2d_35 (Conv2D)          (None, 14, 14, 32)           16416     ['concatenate_4[0][0]']       \n",
            "                                                                                                  \n",
            " max_pooling2d_8 (MaxPoolin  (None, 14, 14, 512)          0         ['concatenate_4[0][0]']       \n",
            " g2D)                                                                                             \n",
            "                                                                                                  \n",
            " conv2d_32 (Conv2D)          (None, 14, 14, 112)          57456     ['concatenate_4[0][0]']       \n",
            "                                                                                                  \n",
            " conv2d_34 (Conv2D)          (None, 14, 14, 288)          373536    ['conv2d_33[0][0]']           \n",
            "                                                                                                  \n",
            " conv2d_36 (Conv2D)          (None, 14, 14, 64)           51264     ['conv2d_35[0][0]']           \n",
            "                                                                                                  \n",
            " conv2d_37 (Conv2D)          (None, 14, 14, 64)           32832     ['max_pooling2d_8[0][0]']     \n",
            "                                                                                                  \n",
            " concatenate_5 (Concatenate  (None, 14, 14, 528)          0         ['conv2d_32[0][0]',           \n",
            " )                                                                   'conv2d_34[0][0]',           \n",
            "                                                                     'conv2d_36[0][0]',           \n",
            "                                                                     'conv2d_37[0][0]']           \n",
            "                                                                                                  \n",
            " conv2d_39 (Conv2D)          (None, 14, 14, 160)          84640     ['concatenate_5[0][0]']       \n",
            "                                                                                                  \n",
            " conv2d_41 (Conv2D)          (None, 14, 14, 32)           16928     ['concatenate_5[0][0]']       \n",
            "                                                                                                  \n",
            " max_pooling2d_9 (MaxPoolin  (None, 14, 14, 528)          0         ['concatenate_5[0][0]']       \n",
            " g2D)                                                                                             \n",
            "                                                                                                  \n",
            " conv2d_38 (Conv2D)          (None, 14, 14, 256)          135424    ['concatenate_5[0][0]']       \n",
            "                                                                                                  \n",
            " conv2d_40 (Conv2D)          (None, 14, 14, 320)          461120    ['conv2d_39[0][0]']           \n",
            "                                                                                                  \n",
            " conv2d_42 (Conv2D)          (None, 14, 14, 128)          102528    ['conv2d_41[0][0]']           \n",
            "                                                                                                  \n",
            " conv2d_43 (Conv2D)          (None, 14, 14, 128)          67712     ['max_pooling2d_9[0][0]']     \n",
            "                                                                                                  \n",
            " concatenate_6 (Concatenate  (None, 14, 14, 832)          0         ['conv2d_38[0][0]',           \n",
            " )                                                                   'conv2d_40[0][0]',           \n",
            "                                                                     'conv2d_42[0][0]',           \n",
            "                                                                     'conv2d_43[0][0]']           \n",
            "                                                                                                  \n",
            " max_pooling2d_10 (MaxPooli  (None, 7, 7, 832)            0         ['concatenate_6[0][0]']       \n",
            " ng2D)                                                                                            \n",
            "                                                                                                  \n",
            " conv2d_45 (Conv2D)          (None, 7, 7, 160)            133280    ['max_pooling2d_10[0][0]']    \n",
            "                                                                                                  \n",
            " conv2d_47 (Conv2D)          (None, 7, 7, 32)             26656     ['max_pooling2d_10[0][0]']    \n",
            "                                                                                                  \n",
            " max_pooling2d_11 (MaxPooli  (None, 7, 7, 832)            0         ['max_pooling2d_10[0][0]']    \n",
            " ng2D)                                                                                            \n",
            "                                                                                                  \n",
            " conv2d_44 (Conv2D)          (None, 7, 7, 256)            213248    ['max_pooling2d_10[0][0]']    \n",
            "                                                                                                  \n",
            " conv2d_46 (Conv2D)          (None, 7, 7, 320)            461120    ['conv2d_45[0][0]']           \n",
            "                                                                                                  \n",
            " conv2d_48 (Conv2D)          (None, 7, 7, 128)            102528    ['conv2d_47[0][0]']           \n",
            "                                                                                                  \n",
            " conv2d_49 (Conv2D)          (None, 7, 7, 128)            106624    ['max_pooling2d_11[0][0]']    \n",
            "                                                                                                  \n",
            " concatenate_7 (Concatenate  (None, 7, 7, 832)            0         ['conv2d_44[0][0]',           \n",
            " )                                                                   'conv2d_46[0][0]',           \n",
            "                                                                     'conv2d_48[0][0]',           \n",
            "                                                                     'conv2d_49[0][0]']           \n",
            "                                                                                                  \n",
            " conv2d_51 (Conv2D)          (None, 7, 7, 192)            159936    ['concatenate_7[0][0]']       \n",
            "                                                                                                  \n",
            " conv2d_53 (Conv2D)          (None, 7, 7, 48)             39984     ['concatenate_7[0][0]']       \n",
            "                                                                                                  \n",
            " max_pooling2d_12 (MaxPooli  (None, 7, 7, 832)            0         ['concatenate_7[0][0]']       \n",
            " ng2D)                                                                                            \n",
            "                                                                                                  \n",
            " conv2d_50 (Conv2D)          (None, 7, 7, 384)            319872    ['concatenate_7[0][0]']       \n",
            "                                                                                                  \n",
            " conv2d_52 (Conv2D)          (None, 7, 7, 384)            663936    ['conv2d_51[0][0]']           \n",
            "                                                                                                  \n",
            " conv2d_54 (Conv2D)          (None, 7, 7, 128)            153728    ['conv2d_53[0][0]']           \n",
            "                                                                                                  \n",
            " conv2d_55 (Conv2D)          (None, 7, 7, 128)            106624    ['max_pooling2d_12[0][0]']    \n",
            "                                                                                                  \n",
            " concatenate_8 (Concatenate  (None, 7, 7, 1024)           0         ['conv2d_50[0][0]',           \n",
            " )                                                                   'conv2d_52[0][0]',           \n",
            "                                                                     'conv2d_54[0][0]',           \n",
            "                                                                     'conv2d_55[0][0]']           \n",
            "                                                                                                  \n",
            " global_average_pooling2d (  (None, 1024)                 0         ['concatenate_8[0][0]']       \n",
            " GlobalAveragePooling2D)                                                                          \n",
            "                                                                                                  \n",
            " dropout (Dropout)           (None, 1024)                 0         ['global_average_pooling2d[0][\n",
            "                                                                    0]']                          \n",
            "                                                                                                  \n",
            " dense (Dense)               (None, 10)                   10250     ['dropout[0][0]']             \n",
            "                                                                                                  \n",
            "==================================================================================================\n",
            "Total params: 5979642 (22.81 MB)\n",
            "Trainable params: 5979642 (22.81 MB)\n",
            "Non-trainable params: 0 (0.00 Byte)\n",
            "__________________________________________________________________________________________________\n"
          ]
        }
      ]
    },
    {
      "cell_type": "code",
      "source": [
        "# 모델 학습\n",
        "history = model.fit(train_X, train_y, epochs=5, validation_data=(test_X, test_y))"
      ],
      "metadata": {
        "colab": {
          "base_uri": "https://localhost:8080/"
        },
        "id": "61ARpmrr41OP",
        "outputId": "092d0b10-4d5a-490c-b627-e250c620e3b5"
      },
      "execution_count": 5,
      "outputs": [
        {
          "output_type": "stream",
          "name": "stdout",
          "text": [
            "Epoch 1/5\n",
            "1563/1563 [==============================] - 829s 525ms/step - loss: 2.3030 - accuracy: 0.0958 - val_loss: 2.3026 - val_accuracy: 0.1000\n",
            "Epoch 2/5\n",
            "1563/1563 [==============================] - 808s 517ms/step - loss: 2.3028 - accuracy: 0.0987 - val_loss: 2.3026 - val_accuracy: 0.1000\n",
            "Epoch 3/5\n",
            "1563/1563 [==============================] - 808s 517ms/step - loss: 2.3028 - accuracy: 0.0977 - val_loss: 2.3026 - val_accuracy: 0.1000\n",
            "Epoch 4/5\n",
            "1563/1563 [==============================] - 806s 516ms/step - loss: 2.3028 - accuracy: 0.0968 - val_loss: 2.3026 - val_accuracy: 0.1000\n",
            "Epoch 5/5\n",
            "1563/1563 [==============================] - 805s 515ms/step - loss: 2.3028 - accuracy: 0.0958 - val_loss: 2.3026 - val_accuracy: 0.1000\n"
          ]
        }
      ]
    },
    {
      "cell_type": "code",
      "source": [
        "# 결과 시각화\n",
        "plt.subplot(1, 2, 1)\n",
        "plt.plot(history.history['loss'], 'b-', label='Training Loss')\n",
        "plt.plot(history.history['val_loss'], 'r--', label='Validation Loss')\n",
        "plt.xlabel('Epochs')\n",
        "plt.ylabel('Loss')\n",
        "plt.legend()\n",
        "\n",
        "plt.subplot(1, 2, 2)\n",
        "plt.plot(history.history['accuracy'], 'g-', label='Training Accuracy')\n",
        "plt.plot(history.history['val_accuracy'], 'r--', label='Validation Accuracy')\n",
        "plt.xlabel('Epochs')\n",
        "plt.ylabel('Accuracy')\n",
        "plt.legend()\n",
        "\n",
        "plt.tight_layout()\n",
        "plt.show()"
      ],
      "metadata": {
        "colab": {
          "base_uri": "https://localhost:8080/",
          "height": 487
        },
        "id": "6fbSe_im4W84",
        "outputId": "86ed9361-68f6-4d59-cb4d-cb984d048757"
      },
      "execution_count": 6,
      "outputs": [
        {
          "output_type": "display_data",
          "data": {
            "text/plain": [
              "<Figure size 640x480 with 2 Axes>"
            ],
            "image/png": "[encoded data removed]"
          },
          "metadata": {}
        }
      ]
    },
    {
      "cell_type": "code",
      "source": [
        "# 모델 성능 평가\n",
        "test_loss, test_accuracy = model.evaluate(test_X, test_y, verbose=0)\n",
        "print(f\"Test Loss: {test_loss}, Test Accuracy: {test_accuracy}\")"
      ],
      "metadata": {
        "colab": {
          "base_uri": "https://localhost:8080/"
        },
        "id": "HmA1HD-r8-me",
        "outputId": "84889e33-8876-4237-bcd0-7dd00c3d8309"
      },
      "execution_count": 7,
      "outputs": [
        {
          "output_type": "stream",
          "name": "stdout",
          "text": [
            "Test Loss: 2.302612781524658, Test Accuracy: 0.10000000149011612\n"
          ]
        }
      ]
    }
  ]
}