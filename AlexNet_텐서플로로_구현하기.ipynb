{
  "nbformat": 4,
  "nbformat_minor": 0,
  "metadata": {
    "colab": {
      "provenance": [],
      "gpuType": "T4",
      "authorship_tag": "ABX9TyOcl+IeV8mX8BxbeBQP73kK",
      "include_colab_link": true
    },
    "kernelspec": {
      "name": "python3",
      "display_name": "Python 3"
    },
    "language_info": {
      "name": "python"
    },
    "accelerator": "GPU"
  },
  "cells": [
    {
      "cell_type": "markdown",
      "metadata": {
        "id": "view-in-github",
        "colab_type": "text"
      },
      "source": [
        "<a href=\"https://colab.research.google.com/github/hscrown/paper_reading/blob/main/AlexNet_%ED%85%90%EC%84%9C%ED%94%8C%EB%A1%9C%EB%A1%9C_%EA%B5%AC%ED%98%84%ED%95%98%EA%B8%B0.ipynb\" target=\"_parent\"><img src=\"https://colab.research.google.com/assets/colab-badge.svg\" alt=\"Open In Colab\"/></a>"
      ]
    },
    {
      "cell_type": "markdown",
      "source": [
        "AlexNet"
      ],
      "metadata": {
        "id": "FFWEhKuc2u7F"
      }
    },
    {
      "cell_type": "code",
      "source": [
        "# 데이터 전처리\n",
        "import tensorflow as tf\n",
        "from tensorflow.keras import datasets, layers, models\n",
        "import numpy as np\n",
        "import matplotlib.pyplot as plt"
      ],
      "metadata": {
        "id": "Zh-iZ7p67mw1"
      },
      "execution_count": 1,
      "outputs": []
    },
    {
      "cell_type": "code",
      "source": [
        "# CIFAR-100 데이터셋 로드 및 스플릿\n",
        "(train_X, train_y), (test_X, test_y) = datasets.cifar100.load_data()\n",
        "\n",
        "# 데이터 정규화 (픽셀 값 범위를 [0, 1]로 변환)\n",
        "train_X = train_X / 255.0\n",
        "test_X = test_X / 255.0\n",
        "\n",
        "# CIFAR-100을 AlexNet 입력 크기인 224x224로 리사이즈\n",
        "train_X = tf.image.resize(train_X, [224, 224])\n",
        "test_X = tf.image.resize(test_X, [224, 224])\n",
        "\n",
        "# 데이터셋 크기 확인\n",
        "print(\"Train data shape:\", train_X.shape)  # (50000, 224, 224, 3)\n",
        "print(\"Test data shape:\", test_X.shape)    # (10000, 224, 224, 3)"
      ],
      "metadata": {
        "id": "77zTqXJ-7qgz"
      },
      "execution_count": null,
      "outputs": []
    },
    {
      "cell_type": "code",
      "source": [
        "# AlexNet 모델 정의 (논문 구조에 맞게 LRN과 드롭아웃 포함)\n",
        "model = tf.keras.Sequential([\n",
        "    # 첫 번째 Conv 레이어, 패딩:valid 패딩 없이 계산하여 특징 맵의 크기를 줄임\n",
        "    layers.Conv2D(filters=96, kernel_size=(11, 11), strides=(4, 4), padding='valid', activation='relu',\n",
        "                  input_shape=(224, 224, 3)),\n",
        "\n",
        "    # 첫 번째 LRN 레이어\n",
        "    layers.Lambda(lambda x: tf.nn.local_response_normalization(x, depth_radius=5, bias=1, alpha=1e-4, beta=0.75)),\n",
        "\n",
        "    # 첫 번째 MaxPooling 레이어\n",
        "    layers.MaxPool2D(pool_size=(3, 3), strides=(2, 2)),\n",
        "\n",
        "    # 두 번째 Conv 레이어 패딩:same 입력과 출력의 크기가 같도록 제로패딩추가\n",
        "    layers.Conv2D(filters=256, kernel_size=(5, 5), strides=(1, 1), padding='same', activation='relu'),\n",
        "\n",
        "    # 두 번째 LRN 레이어\n",
        "    layers.Lambda(lambda x: tf.nn.local_response_normalization(x, depth_radius=5, bias=1, alpha=1e-4, beta=0.75)),\n",
        "\n",
        "    # 두 번째 MaxPooling 레이어\n",
        "    layers.MaxPool2D(pool_size=(3, 3), strides=(2, 2)),\n",
        "\n",
        "    # 세 번째 Conv 레이어\n",
        "    layers.Conv2D(filters=384, kernel_size=(3, 3), strides=(1, 1), padding='same', activation='relu'),\n",
        "\n",
        "    # 네 번째 Conv 레이어\n",
        "    layers.Conv2D(filters=384, kernel_size=(3, 3), strides=(1, 1), padding='same', activation='relu'),\n",
        "\n",
        "    # 다섯 번째 Conv 레이어\n",
        "    layers.Conv2D(filters=256, kernel_size=(3, 3), strides=(1, 1), padding='same', activation='relu'),\n",
        "\n",
        "    # 세 번째 MaxPooling 레이어\n",
        "    layers.MaxPool2D(pool_size=(3, 3), strides=(2, 2)),\n",
        "\n",
        "    # Flatten 레이어: 다차원 출력을 1차원으로 펼쳐서 Fully Connected 레이어에 전달\n",
        "    layers.Flatten(),\n",
        "\n",
        "    # 첫 번째 Fully Connected 레이어\n",
        "    layers.Dense(units=4096, activation='relu'),\n",
        "    # 첫 번째 드롭아웃 레이어\n",
        "    # - 비율: 0.5, 첫 번째 Fully Connected 레이어 뒤에 추가\n",
        "    layers.Dropout(0.5),\n",
        "\n",
        "    # 두 번째 Fully Connected 레이어\n",
        "    layers.Dense(units=4096, activation='relu'),\n",
        "    # 두 번째 드롭아웃 레이어\n",
        "    # - 비율: 0.5, 두 번째 Fully Connected 레이어 뒤에 추가\n",
        "    layers.Dropout(0.5),\n",
        "\n",
        "    # 출력 레이어: CIFAR-100에 맞춰 100개의 클래스로 분류\n",
        "    layers.Dense(units=100, activation='softmax')\n",
        "])\n",
        "\n",
        "# 모델 컴파일\n",
        "model.compile(optimizer=tf.keras.optimizers.Adam(),\n",
        "              loss='sparse_categorical_crossentropy',\n",
        "              metrics=['accuracy'])\n",
        "\n",
        "# 모델 요약 정보 출력\n",
        "model.summary()"
      ],
      "metadata": {
        "id": "56lHwr8q2xbT"
      },
      "execution_count": null,
      "outputs": []
    },
    {
      "cell_type": "code",
      "source": [
        "# 모델 학습\n",
        "history = model.fit(train_X, train_y, epochs=2, validation_split=0.2)"
      ],
      "metadata": {
        "id": "61ARpmrr41OP"
      },
      "execution_count": null,
      "outputs": []
    },
    {
      "cell_type": "code",
      "source": [
        "# 결과 시각화\n",
        "plt.subplot(1, 2, 1)\n",
        "plt.plot(history.history['loss'], 'b-', label='Training Loss')\n",
        "plt.plot(history.history['val_loss'], 'r--', label='Validation Loss')\n",
        "plt.xlabel('Epochs')\n",
        "plt.ylabel('Loss')\n",
        "plt.legend()\n",
        "\n",
        "plt.subplot(1, 2, 2)\n",
        "plt.plot(history.history['accuracy'], 'g-', label='Training Accuracy')\n",
        "plt.plot(history.history['val_accuracy'], 'r--', label='Validation Accuracy')\n",
        "plt.xlabel('Epochs')\n",
        "plt.ylabel('Accuracy')\n",
        "plt.legend()\n",
        "\n",
        "plt.tight_layout()\n",
        "plt.show()"
      ],
      "metadata": {
        "id": "6fbSe_im4W84"
      },
      "execution_count": null,
      "outputs": []
    },
    {
      "cell_type": "code",
      "source": [
        "# 모델 성능 평가\n",
        "test_loss, test_accuracy = model.evaluate(test_X, test_y, verbose=0)\n",
        "print(f\"Test Loss: {test_loss}, Test Accuracy: {test_accuracy}\")"
      ],
      "metadata": {
        "id": "HmA1HD-r8-me"
      },
      "execution_count": null,
      "outputs": []
    }
  ]
}